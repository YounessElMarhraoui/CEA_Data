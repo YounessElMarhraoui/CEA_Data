{
 "cells": [
  {
   "cell_type": "code",
   "execution_count": 3,
   "id": "80141ddb",
   "metadata": {},
   "outputs": [
    {
     "name": "stdout",
     "output_type": "stream",
     "text": [
      "From https://github.com/YounessElMarhraoui/CEA_Data\n",
      " * branch            paper_code -> FETCH_HEAD\n",
      "Already up to date.\n"
     ]
    }
   ],
   "source": [
    "#! git checkout paper_code\n",
    "#! git pull origin paper_code"
   ]
  },
  {
   "cell_type": "code",
   "execution_count": 1,
   "id": "f09347fd",
   "metadata": {},
   "outputs": [],
   "source": [
    "! git add ."
   ]
  },
  {
   "cell_type": "code",
   "execution_count": 2,
   "id": "751e86c7",
   "metadata": {},
   "outputs": [
    {
     "name": "stdout",
     "output_type": "stream",
     "text": [
      "On branch paper_code\n",
      "Your branch is up to date with 'origin/paper_code'.\n",
      "\n",
      "Changes to be committed:\n",
      "  (use \"git reset HEAD <file>...\" to unstage)\n",
      "\n",
      "\t\u001b[32mdeleted:    .ipynb_checkpoints/Untitled-checkpoint.ipynb\u001b[m\n",
      "\t\u001b[32mmodified:   .ipynb_checkpoints/evaluate-checkpoint.ipynb\u001b[m\n",
      "\t\u001b[32mrenamed:    .ipynb_checkpoints/Untitled-Copy1-checkpoint.ipynb -> .ipynb_checkpoints/run_and_git_update-checkpoint.ipynb\u001b[m\n",
      "\t\u001b[32mdeleted:    Untitled.ipynb\u001b[m\n",
      "\t\u001b[32mmodified:   evaluate.ipynb\u001b[m\n",
      "\t\u001b[32mrenamed:    Untitled-Copy1.ipynb -> run_and_git_update.ipynb\u001b[m\n",
      "\t\u001b[32mmodified:   src/.ipynb_checkpoints/main-checkpoint.py\u001b[m\n",
      "\t\u001b[32mnew file:   src/data/.ipynb_checkpoints/transform_cea_data-checkpoint.py\u001b[m\n",
      "\t\u001b[32mmodified:   src/main.py\u001b[m\n",
      "\t\u001b[32mmodified:   src/training/.ipynb_checkpoints/model_training-checkpoint.py\u001b[m\n",
      "\t\u001b[32mmodified:   src/training/.ipynb_checkpoints/neural_models-checkpoint.py\u001b[m\n",
      "\t\u001b[32mmodified:   src/training/__pycache__/model_training.cpython-36.pyc\u001b[m\n",
      "\t\u001b[32mmodified:   src/training/__pycache__/neural_models.cpython-36.pyc\u001b[m\n",
      "\t\u001b[32mmodified:   src/training/model_training.py\u001b[m\n",
      "\t\u001b[32mmodified:   src/training/neural_models.py\u001b[m\n",
      "\n",
      "Changes not staged for commit:\n",
      "  (use \"git add <file>...\" to update what will be committed)\n",
      "  (use \"git checkout -- <file>...\" to discard changes in working directory)\n",
      "\n",
      "\t\u001b[31mmodified:   run_and_git_update.ipynb\u001b[m\n",
      "\n"
     ]
    }
   ],
   "source": [
    "! git status"
   ]
  },
  {
   "cell_type": "code",
   "execution_count": 3,
   "id": "bcc31f5e",
   "metadata": {},
   "outputs": [
    {
     "name": "stdout",
     "output_type": "stream",
     "text": [
      "[paper_code d46e692] paper submission\n",
      " Committer: EC2 Default User <ec2-user@ip-172-16-84-137.eu-west-3.compute.internal>\n",
      "Your name and email address were configured automatically based\n",
      "on your username and hostname. Please check that they are accurate.\n",
      "You can suppress this message by setting them explicitly:\n",
      "\n",
      "    git config --global user.name \"Your Name\"\n",
      "    git config --global user.email you@example.com\n",
      "\n",
      "After doing this, you may fix the identity used for this commit with:\n",
      "\n",
      "    git commit --amend --reset-author\n",
      "\n",
      " 15 files changed, 10904 insertions(+), 11004 deletions(-)\n",
      " delete mode 100644 .ipynb_checkpoints/Untitled-checkpoint.ipynb\n",
      " rewrite .ipynb_checkpoints/evaluate-checkpoint.ipynb (86%)\n",
      " rename .ipynb_checkpoints/{Untitled-Copy1-checkpoint.ipynb => run_and_git_update-checkpoint.ipynb} (100%)\n",
      " delete mode 100644 Untitled.ipynb\n",
      " rewrite evaluate.ipynb (90%)\n",
      " rename Untitled-Copy1.ipynb => run_and_git_update.ipynb (92%)\n",
      " create mode 100644 src/data/.ipynb_checkpoints/transform_cea_data-checkpoint.py\n"
     ]
    }
   ],
   "source": [
    "! git commit -m \"paper submission\""
   ]
  },
  {
   "cell_type": "code",
   "execution_count": 6,
   "id": "52ba1fa4",
   "metadata": {},
   "outputs": [
    {
     "name": "stdout",
     "output_type": "stream",
     "text": [
      "Username for 'https://github.com/YounessElMarhraoui/CEA_Data.git': ^C\n"
     ]
    }
   ],
   "source": [
    "! git push origin paper_code"
   ]
  },
  {
   "cell_type": "code",
   "execution_count": null,
   "id": "d50a68f7",
   "metadata": {},
   "outputs": [],
   "source": [
    "! pip install -r requirements.txt"
   ]
  },
  {
   "cell_type": "code",
   "execution_count": 1,
   "id": "63ea1791",
   "metadata": {},
   "outputs": [],
   "source": [
    "import warnings\n",
    "\n",
    "warnings.filterwarnings(\"ignore\")"
   ]
  },
  {
   "cell_type": "code",
   "execution_count": 2,
   "id": "5b7cff71",
   "metadata": {},
   "outputs": [],
   "source": [
    "import os\n",
    "import random\n",
    "import numpy as np\n",
    "import tensorflow as tf\n",
    "\n",
    "seed = 1234\n",
    "os.environ['PYTHONHASHSEED'] = str(seed)\n",
    "random.seed(seed)\n",
    "tf.random.set_seed(seed)\n",
    "np.random.seed(seed)"
   ]
  },
  {
   "cell_type": "code",
   "execution_count": 8,
   "id": "e78e81ed",
   "metadata": {},
   "outputs": [
    {
     "name": "stdout",
     "output_type": "stream",
     "text": [
      "2021-10-17 21:00:45.047772: W tensorflow/stream_executor/platform/default/dso_loader.cc:64] Could not load dynamic library 'libcudart.so.11.0'; dlerror: libcudart.so.11.0: cannot open shared object file: No such file or directory; LD_LIBRARY_PATH: /usr/local/cuda-10.0/lib64:/usr/local/cuda-10.0/extras/CUPTI/lib64:/usr/local/cuda-10.0/lib:/usr/local/cuda-10.0/efa/lib:/opt/amazon/efa/lib:/opt/amazon/efa/lib64:/usr/local/cuda/lib:/usr/local/cuda/lib64:/usr/local/cuda/extras/CUPTI/lib64:/opt/amazon/efa/lib64:/opt/amazon/openmpi/lib64:/usr/local/lib:/usr/lib:/lib:/usr/local/cuda/lib:/usr/local/cuda/lib64:/usr/local/cuda/extras/CUPTI/lib64:/opt/amazon/efa/lib64:/opt/amazon/openmpi/lib64:/usr/local/lib:/usr/lib:/lib:\n",
      "2021-10-17 21:00:45.047815: I tensorflow/stream_executor/cuda/cudart_stub.cc:29] Ignore above cudart dlerror if you do not have a GPU set up on your machine.\n",
      "######################################################################\n",
      "WINDOW SIZE: 2 - TRANSFORM TYPE: None\n",
      "######################################################################\n",
      "2021-10-17 21:13:10.074634: E tensorflow/stream_executor/cuda/cuda_driver.cc:271] failed call to cuInit: CUDA_ERROR_NO_DEVICE: no CUDA-capable device is detected\n",
      "2021-10-17 21:13:10.077118: I tensorflow/stream_executor/cuda/cuda_diagnostics.cc:156] kernel driver does not appear to be running on this host (ip-172-16-66-226): /proc/driver/nvidia/version does not exist\n",
      "2021-10-17 21:13:10.087051: I tensorflow/core/platform/cpu_feature_guard.cc:142] This TensorFlow binary is optimized with oneAPI Deep Neural Network Library (oneDNN) to use the following CPU instructions in performance-critical operations:  AVX2 FMA\n",
      "To enable them in other operations, rebuild TensorFlow with the appropriate compiler flags.\n",
      "cnn_two_channels_model is training!\n",
      "############################################################\n",
      "2021-10-17 21:13:10.946439: I tensorflow/compiler/mlir/mlir_graph_optimization_pass.cc:185] None of the MLIR Optimization Passes are enabled (registered 2)\n",
      "Epoch 1/20\n",
      "1319/1319 - 272s - loss: 0.0972 - accuracy: 0.9626 - val_loss: 0.0980 - val_accuracy: 0.9609\n",
      "Epoch 2/20\n",
      "1319/1319 - 254s - loss: 0.0803 - accuracy: 0.9680 - val_loss: 0.0812 - val_accuracy: 0.9668\n",
      "Epoch 3/20\n",
      "1319/1319 - 249s - loss: 0.0783 - accuracy: 0.9686 - val_loss: 0.0687 - val_accuracy: 0.9729\n",
      "Epoch 4/20\n",
      "1319/1319 - 274s - loss: 0.0768 - accuracy: 0.9690 - val_loss: 0.0664 - val_accuracy: 0.9743\n",
      "Epoch 5/20\n",
      "1319/1319 - 292s - loss: 0.0759 - accuracy: 0.9694 - val_loss: 0.0757 - val_accuracy: 0.9711\n",
      "Epoch 6/20\n",
      "1319/1319 - 289s - loss: 0.0748 - accuracy: 0.9696 - val_loss: 0.0661 - val_accuracy: 0.9744\n",
      "Epoch 7/20\n",
      "1319/1319 - 290s - loss: 0.0743 - accuracy: 0.9698 - val_loss: 0.0806 - val_accuracy: 0.9665\n",
      "Epoch 8/20\n",
      "1319/1319 - 256s - loss: 0.0737 - accuracy: 0.9700 - val_loss: 0.1047 - val_accuracy: 0.9541\n",
      "Epoch 9/20\n",
      "1319/1319 - 244s - loss: 0.0730 - accuracy: 0.9703 - val_loss: 0.0708 - val_accuracy: 0.9718\n",
      "Epoch 10/20\n",
      "1319/1319 - 243s - loss: 0.0724 - accuracy: 0.9704 - val_loss: 0.0622 - val_accuracy: 0.9763\n",
      "Epoch 11/20\n",
      "1319/1319 - 238s - loss: 0.0720 - accuracy: 0.9707 - val_loss: 0.0639 - val_accuracy: 0.9748\n",
      "Epoch 12/20\n",
      "1319/1319 - 250s - loss: 0.0716 - accuracy: 0.9707 - val_loss: 0.0663 - val_accuracy: 0.9739\n",
      "Epoch 13/20\n",
      "1319/1319 - 286s - loss: 0.0713 - accuracy: 0.9709 - val_loss: 0.0629 - val_accuracy: 0.9752\n",
      "Epoch 14/20\n",
      "1319/1319 - 290s - loss: 0.0709 - accuracy: 0.9711 - val_loss: 0.0718 - val_accuracy: 0.9709\n",
      "Epoch 15/20\n",
      "1319/1319 - 289s - loss: 0.0706 - accuracy: 0.9711 - val_loss: 0.0619 - val_accuracy: 0.9757\n",
      "Epoch 16/20\n",
      "1319/1319 - 261s - loss: 0.0701 - accuracy: 0.9713 - val_loss: 0.0613 - val_accuracy: 0.9770\n",
      "Epoch 17/20\n",
      "1319/1319 - 237s - loss: 0.0701 - accuracy: 0.9712 - val_loss: 0.0749 - val_accuracy: 0.9688\n",
      "Epoch 18/20\n",
      "1319/1319 - 237s - loss: 0.0697 - accuracy: 0.9715 - val_loss: 0.0649 - val_accuracy: 0.9747\n",
      "Epoch 19/20\n",
      "1319/1319 - 240s - loss: 0.0695 - accuracy: 0.9716 - val_loss: 0.0747 - val_accuracy: 0.9696\n",
      "Epoch 20/20\n",
      "1319/1319 - 254s - loss: 0.0694 - accuracy: 0.9716 - val_loss: 0.0786 - val_accuracy: 0.9675\n",
      "870/870 [==============================] - 2s 3ms/step - loss: 0.0771 - accuracy: 0.9666\n",
      "Accuracy score:  0.9732332123738009\n",
      "Confusion matrix: \n",
      " [[30789   977]\n",
      " [  513 23387]]\n",
      "Classification report: \n",
      "               precision    recall  f1-score   support\n",
      "\n",
      "         0.0       0.98      0.97      0.98     31766\n",
      "         1.0       0.96      0.98      0.97     23900\n",
      "\n",
      "    accuracy                           0.97     55666\n",
      "   macro avg       0.97      0.97      0.97     55666\n",
      "weighted avg       0.97      0.97      0.97     55666\n",
      "\n",
      "cnn_two_channels_model_bis is training!\n",
      "############################################################\n",
      "Epoch 1/20\n",
      "1319/1319 - 115s - loss: 0.1455 - accuracy: 0.9487 - val_loss: 0.0987 - val_accuracy: 0.9723\n",
      "Epoch 2/20\n",
      "1319/1319 - 114s - loss: 0.1060 - accuracy: 0.9626 - val_loss: 0.1181 - val_accuracy: 0.9604\n",
      "Epoch 3/20\n",
      "1319/1319 - 48s - loss: 0.1021 - accuracy: 0.9635 - val_loss: 0.1083 - val_accuracy: 0.9635\n",
      "Epoch 4/20\n",
      "1319/1319 - 20s - loss: 0.0994 - accuracy: 0.9639 - val_loss: 0.0943 - val_accuracy: 0.9703\n",
      "Epoch 5/20\n",
      "1319/1319 - 83s - loss: 0.0972 - accuracy: 0.9642 - val_loss: 0.1037 - val_accuracy: 0.9624\n",
      "Epoch 6/20\n",
      "1319/1319 - 117s - loss: 0.0946 - accuracy: 0.9646 - val_loss: 0.0907 - val_accuracy: 0.9697\n",
      "Epoch 7/20\n",
      "1319/1319 - 74s - loss: 0.0923 - accuracy: 0.9648 - val_loss: 0.1127 - val_accuracy: 0.9558\n",
      "Epoch 8/20\n",
      "1319/1319 - 22s - loss: 0.0899 - accuracy: 0.9652 - val_loss: 0.0913 - val_accuracy: 0.9661\n",
      "Epoch 9/20\n",
      "1319/1319 - 65s - loss: 0.0879 - accuracy: 0.9657 - val_loss: 0.0853 - val_accuracy: 0.9672\n",
      "Epoch 10/20\n",
      "1319/1319 - 117s - loss: 0.0862 - accuracy: 0.9661 - val_loss: 0.0872 - val_accuracy: 0.9656\n",
      "Epoch 11/20\n",
      "1319/1319 - 92s - loss: 0.0850 - accuracy: 0.9663 - val_loss: 0.0810 - val_accuracy: 0.9695\n",
      "Epoch 12/20\n",
      "1319/1319 - 20s - loss: 0.0840 - accuracy: 0.9667 - val_loss: 0.0739 - val_accuracy: 0.9727\n",
      "Epoch 13/20\n",
      "1319/1319 - 38s - loss: 0.0834 - accuracy: 0.9668 - val_loss: 0.0719 - val_accuracy: 0.9741\n",
      "Epoch 14/20\n",
      "1319/1319 - 116s - loss: 0.0828 - accuracy: 0.9671 - val_loss: 0.0716 - val_accuracy: 0.9737\n",
      "Epoch 15/20\n",
      "1319/1319 - 115s - loss: 0.0823 - accuracy: 0.9672 - val_loss: 0.0769 - val_accuracy: 0.9709\n",
      "Epoch 16/20\n",
      "1319/1319 - 26s - loss: 0.0819 - accuracy: 0.9674 - val_loss: 0.0814 - val_accuracy: 0.9685\n",
      "Epoch 17/20\n",
      "1319/1319 - 22s - loss: 0.0817 - accuracy: 0.9674 - val_loss: 0.0878 - val_accuracy: 0.9650\n",
      "Epoch 18/20\n",
      "1319/1319 - 111s - loss: 0.0814 - accuracy: 0.9675 - val_loss: 0.0752 - val_accuracy: 0.9714\n",
      "Epoch 19/20\n",
      "1319/1319 - 109s - loss: 0.0811 - accuracy: 0.9676 - val_loss: 0.0730 - val_accuracy: 0.9725\n",
      "Epoch 20/20\n",
      "1319/1319 - 52s - loss: 0.0809 - accuracy: 0.9677 - val_loss: 0.0837 - val_accuracy: 0.9667\n",
      "870/870 [==============================] - 1s 1ms/step - loss: 0.0867 - accuracy: 0.9654\n",
      "Accuracy score:  0.9735924981137498\n",
      "Confusion matrix: \n",
      " [[30819   947]\n",
      " [  523 23377]]\n",
      "Classification report: \n",
      "               precision    recall  f1-score   support\n",
      "\n",
      "         0.0       0.98      0.97      0.98     31766\n",
      "         1.0       0.96      0.98      0.97     23900\n",
      "\n",
      "    accuracy                           0.97     55666\n",
      "   macro avg       0.97      0.97      0.97     55666\n",
      "weighted avg       0.97      0.97      0.97     55666\n",
      "\n"
     ]
    }
   ],
   "source": [
    "! python ./src/main.py"
   ]
  },
  {
   "cell_type": "code",
   "execution_count": null,
   "id": "e749691c",
   "metadata": {},
   "outputs": [],
   "source": []
  }
 ],
 "metadata": {
  "kernelspec": {
   "display_name": "conda_python3",
   "language": "python",
   "name": "conda_python3"
  },
  "language_info": {
   "codemirror_mode": {
    "name": "ipython",
    "version": 3
   },
   "file_extension": ".py",
   "mimetype": "text/x-python",
   "name": "python",
   "nbconvert_exporter": "python",
   "pygments_lexer": "ipython3",
   "version": "3.6.13"
  }
 },
 "nbformat": 4,
 "nbformat_minor": 5
}
